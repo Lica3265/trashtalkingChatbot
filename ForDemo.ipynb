{
 "cells": [
  {
   "cell_type": "code",
   "execution_count": 1,
   "metadata": {
    "collapsed": false
   },
   "outputs": [],
   "source": [
    "#!/usr/bin/env python\n",
    "# -*- coding: utf-8 -*-\n",
    "import random\n",
    "import logging\n",
    "import csv\n",
    "import jieba\n",
    "from chatterbot import ChatBot\n",
    "from chatterbot.trainers import ChatterBotCorpusTrainer\n",
    "\n",
    "logging.basicConfig(level=logging.CRITICAL)\n",
    "\n",
    "#  jieba.load_userdict(\"../jieba_dict/av.txt\")\n",
    "#  jieba.load_userdict(\"../jieba_dict/dict.txt\")\n",
    "#  jieba.load_userdict(\"../jieba_dict/ptt_words.txt\")\n",
    "#  jieba.load_userdict(\"../jieba_dict/taiwan_actor.txt\")\n",
    "#  jieba.load_userdict(\"../jieba_dict/taiwan_name.txt\")\n",
    "#  jieba.load_userdict(\"../jieba_dict/usa_name.txt\")\n",
    "stopwords = []\n",
    "can_words = []\n",
    "\n",
    "with open(\"data/stopwords/stopwords\", 'r') as f:\n",
    "    stopwords = [i.replace(\" \", \"\") for i in f.read().split(\"\\n\")]\n",
    "with open(\"data/cans/cans.txt\", \"r\") as f:\n",
    "    can_words = f.read().split(\"\\n\")\n",
    "bot = ChatBot(\n",
    "    \"I wonna sleep....\",\n",
    "    storage_adapter='chatterbot.storage.SQLStorageAdapter',\n",
    "    logic_adapters=[\n",
    "        \"chatterbot.logic.MathematicalEvaluation\",\n",
    "        \"chatterbot.logic.BestMatch\",\n",
    "        #  {\n",
    "        #  'import_path': 'chatterbot.logic.LowConfidenceAdapter',\n",
    "        #  'threshold': 0.5,\n",
    "        #  'default_response': '我是不知道你在供三小啦 但我不想人生攻擊你'\n",
    "        #  }\n",
    "    ],\n",
    "    filters=[\n",
    "        'chatterbot.filters.RepetitiveResponseFilter'\n",
    "    ],\n",
    "    language=\"chinese\",\n",
    ")\n",
    "\n",
    "\n",
    "#print(\"Type something to begin...\")\n",
    "\n",
    "\n",
    "def remove_stopwords(words):\n",
    "    for i in stopwords:\n",
    "        if i in words:\n",
    "            words.remove(i)\n",
    "    return words\n",
    "\n",
    "def getAnswer(question):\n",
    "#while True:\n",
    "    #try:\n",
    "        #__input = input()\n",
    "        answer=''\n",
    "        with open(\"data/keywords.csv\", 'r') as f:\n",
    "            reader = csv.DictReader(f)\n",
    "            dont_use_chatter = False\n",
    "            for row in reader:\n",
    "                if row[\"QUESTION\"] in question:\n",
    "                    logging.debug(\"the words in my db\")\n",
    "                    print(row[\"ANSWER\"])\n",
    "                    answer=str(row[\"ANSWER\"])\n",
    "                    dont_use_chatter = True\n",
    "                    break\n",
    "            if dont_use_chatter == False:\n",
    "                bot_input = bot.get_response(question)\n",
    "                logging.debug(\"confidence\" + str(bot_input.confidence))\n",
    "                if bot_input.confidence > 0.5:\n",
    "                    print(bot_input)\n",
    "                    answer=str(bot_input)\n",
    "                    dont_use_chatter = True\n",
    "                else:\n",
    "                    logging.debug(\"confidence too low, try to search\")\n",
    "                    segs = jieba.cut(question)\n",
    "                    dont_use_chatter = True\n",
    "                    segged = list(segs)\n",
    "                    without_sw = remove_stopwords(segged)\n",
    "                    logging.debug(\"without stopword: \" + \"\".join(without_sw))\n",
    "                    new_bot_input = random.choice(can_words).replace(\"%p\", question)\n",
    "                    print(new_bot_input)\n",
    "                    answer=str(new_bot_input)\n",
    "            #print answer\n",
    "    #except (KeyboardInterrupt, EOFError, SystemExit):\n",
    "        #break\n"
   ]
  },
  {
   "cell_type": "code",
   "execution_count": 5,
   "metadata": {
    "collapsed": false
   },
   "outputs": [
    {
     "name": "stdout",
     "output_type": "stream",
     "text": [
      "現在行政院長換賴清德全台都不用放假啦\n"
     ]
    }
   ],
   "source": [
    "getAnswer('這次颱風會放假嗎？')"
   ]
  },
  {
   "cell_type": "code",
   "execution_count": 6,
   "metadata": {
    "collapsed": false
   },
   "outputs": [
    {
     "name": "stdout",
     "output_type": "stream",
     "text": [
      "放佛光山\n"
     ]
    }
   ],
   "source": [
    "getAnswer('核廢料應該要放哪裡？')"
   ]
  },
  {
   "cell_type": "code",
   "execution_count": 7,
   "metadata": {
    "collapsed": false
   },
   "outputs": [
    {
     "name": "stdout",
     "output_type": "stream",
     "text": [
      "所謂結婚，就是你會持續錯上一輩子\n"
     ]
    }
   ],
   "source": [
    "getAnswer('這場戰爭回來，我就要結婚了？')"
   ]
  },
  {
   "cell_type": "code",
   "execution_count": 8,
   "metadata": {
    "collapsed": false
   },
   "outputs": [
    {
     "name": "stdout",
     "output_type": "stream",
     "text": [
      "什麼永和，我早就搬去土城了\n"
     ]
    }
   ],
   "source": [
    "getAnswer('你是擁核人？')"
   ]
  },
  {
   "cell_type": "code",
   "execution_count": 9,
   "metadata": {
    "collapsed": false
   },
   "outputs": [
    {
     "name": "stdout",
     "output_type": "stream",
     "text": [
      "只有遠傳沒有訊息\n"
     ]
    }
   ],
   "source": [
    "getAnswer('遠傳的訊號強嗎？')"
   ]
  },
  {
   "cell_type": "code",
   "execution_count": null,
   "metadata": {
    "collapsed": true
   },
   "outputs": [],
   "source": []
  }
 ],
 "metadata": {
  "kernelspec": {
   "display_name": "Python 3",
   "language": "python",
   "name": "python3"
  },
  "language_info": {
   "codemirror_mode": {
    "name": "ipython",
    "version": 3
   },
   "file_extension": ".py",
   "mimetype": "text/x-python",
   "name": "python",
   "nbconvert_exporter": "python",
   "pygments_lexer": "ipython3",
   "version": "3.6.0"
  }
 },
 "nbformat": 4,
 "nbformat_minor": 2
}
