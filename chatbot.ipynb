{
 "cells": [
  {
   "cell_type": "code",
   "execution_count": null,
   "metadata": {
    "collapsed": false
   },
   "outputs": [
    {
     "name": "stdout",
     "output_type": "stream",
     "text": [
      "Type something to begin...\n",
      "人生\n",
      "人的一生，就像背負著重擔走在一條遙遠的道路上。那不是一種負擔，我們每個人雙手都捧著很珍貴的東西。但是當你捧著它的時候，並沒有發覺。只有當它從你的手中掉落時才會感覺到。當我覺得很累，已經不想理會的時候。不知何時卻又已經將它揹在背上。早晚將它扔掉或許會覺得輕鬆點，不過總是說不出口。一但沒了那負擔，走起來就完全不有趣了。\n",
      "天氣\n",
      "全國都將是秋高氣爽的好天氣，不過女人心和秋天都是很容易變化的，萬一下雨，請大家不要怪我。\n",
      "遇過最誇張的追求方式？\n",
      "把自己脫光綁上緞帶笑著問今晚吃什麼\n",
      "台中現在是在颱風眼\n",
      "沒\"事千萬\"(四千萬) 不要出門\n",
      "有人會忍尻嗎\n",
      "你好色喔，居然在尻尻\n"
     ]
    }
   ],
   "source": [
    "#!/usr/bin/env python\n",
    "# -*- coding: utf-8 -*-\n",
    "\n",
    "import logging\n",
    "import csv\n",
    "from chatterbot import ChatBot\n",
    "from chatterbot.trainers import ChatterBotCorpusTrainer\n",
    "\n",
    "logging.basicConfig(level=logging.DEBUG)\n",
    "\n",
    "\n",
    "bot = ChatBot(\n",
    "    \"Terminal\",\n",
    "    storage_adapter='chatterbot.storage.SQLStorageAdapter',\n",
    "    #  storage_adapter=\"chatterbot.storage.MongoDatabaseAdapter\",\n",
    "    #  database=\"chatbot\",\n",
    "    #  database_uri=\"mongodb://192.168.99.100/\",\n",
    "    logic_adapters=[\n",
    "        \"chatterbot.logic.MathematicalEvaluation\",\n",
    "        #  \"chatterbot.logic.TimeLogicAdapter\",\n",
    "        \"chatterbot.logic.BestMatch\"\n",
    "    ],\n",
    "    filters=[\n",
    "        'chatterbot.filters.RepetitiveResponseFilter'\n",
    "    ],\n",
    "    language=\"chinese\",\n",
    ")\n",
    "\n",
    "\n",
    "print(\"Type something to begin...\")\n",
    "\n",
    "while True:\n",
    "    try:\n",
    "        __input = input()\n",
    "        with open(\"data/keywords.csv\", 'r') as f:\n",
    "            reader = csv.DictReader(f)\n",
    "            dont_use_chatter = False\n",
    "            for row in reader:\n",
    "                #  print(list(row))\n",
    "                if row[\"QUESTION\"] in __input:\n",
    "                    print(row[\"ANSWER\"])\n",
    "                    dont_use_chatter = True\n",
    "                    break\n",
    "            if dont_use_chatter == False:\n",
    "                bot_input = bot.get_response(__input)\n",
    "                print(bot_input)\n",
    "\n",
    "    except (KeyboardInterrupt, EOFError, SystemExit):\n",
    "        break\n"
   ]
  },
  {
   "cell_type": "code",
   "execution_count": null,
   "metadata": {
    "collapsed": true
   },
   "outputs": [],
   "source": []
  }
 ],
 "metadata": {
  "kernelspec": {
   "display_name": "Python 3",
   "language": "python",
   "name": "python3"
  },
  "language_info": {
   "codemirror_mode": {
    "name": "ipython",
    "version": 3
   },
   "file_extension": ".py",
   "mimetype": "text/x-python",
   "name": "python",
   "nbconvert_exporter": "python",
   "pygments_lexer": "ipython3",
   "version": "3.6.0"
  }
 },
 "nbformat": 4,
 "nbformat_minor": 2
}
